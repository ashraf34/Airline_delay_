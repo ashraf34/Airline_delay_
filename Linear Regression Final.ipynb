{
 "cells": [
  {
   "cell_type": "code",
   "execution_count": 21,
   "metadata": {},
   "outputs": [],
   "source": [
    "import pandas as pd\n",
    "pd.set_option(\"display.max_columns\", None)\n",
    "import pandas as pd\n",
    "import numpy as np\n",
    "import matplotlib.pyplot as plt\n",
    "import warnings\n",
    "warnings.filterwarnings('ignore')\n",
    "import seaborn as sns\n",
    "from scipy import stats\n",
    "from statsmodels.stats import weightstats as stests\n",
    "import datetime as dt\n",
    "from sklearn.linear_model import LogisticRegression\n",
    "from sklearn.model_selection import GridSearchCV\n",
    "\n",
    "\n",
    "import pandas as pd\n",
    "pd.set_option('display.max_columns', None)\n",
    "import numpy as np\n",
    "import matplotlib.pyplot as plt\n",
    "import seaborn as sns\n",
    "import plotly.graph_objects as go\n",
    "import plotly.express as px\n",
    "%matplotlib inline\n",
    "import os\n",
    "from sqlalchemy import create_engine\n",
    "import time\n",
    "from datetime import datetime, date, time\n",
    "from IPython.core.interactiveshell import InteractiveShell\n",
    "InteractiveShell.ast_node_interactivity = \"all\"\n",
    "import warnings\n",
    "warnings.filterwarnings('ignore')\n",
    "from PIL import Image\n",
    "import scipy.stats as st\n",
    "\n",
    "from sklearn.preprocessing import RobustScaler\n",
    "from sklearn.model_selection import train_test_split\n",
    "from sklearn.decomposition import PCA\n",
    "\n",
    "# Classifier Libraries\n",
    "from sklearn.linear_model import LogisticRegression\n",
    "from sklearn.linear_model import LinearRegression\n",
    "from sklearn.svm import SVR\n",
    "from sklearn.ensemble import RandomForestRegressor\n",
    "import xgboost as xgb\n",
    "from sklearn.naive_bayes import GaussianNB\n",
    "\n",
    "from sklearn.model_selection import GridSearchCV\n",
    "from sklearn import metrics\n",
    "from sklearn.model_selection import cross_val_score\n",
    "from sklearn.metrics import accuracy_score\n",
    "from sklearn.metrics import mean_absolute_error, mean_squared_error\n",
    "from sklearn.preprocessing import StandardScaler\n",
    "from sklearn.linear_model import ElasticNet"
   ]
  },
  {
   "cell_type": "code",
   "execution_count": 7,
   "metadata": {},
   "outputs": [],
   "source": [
    "df = pd.read_csv('df_modeling_sample.csv')"
   ]
  },
  {
   "cell_type": "code",
   "execution_count": 8,
   "metadata": {},
   "outputs": [
    {
     "data": {
      "text/html": [
       "<div>\n",
       "<style scoped>\n",
       "    .dataframe tbody tr th:only-of-type {\n",
       "        vertical-align: middle;\n",
       "    }\n",
       "\n",
       "    .dataframe tbody tr th {\n",
       "        vertical-align: top;\n",
       "    }\n",
       "\n",
       "    .dataframe thead th {\n",
       "        text-align: right;\n",
       "    }\n",
       "</style>\n",
       "<table border=\"1\" class=\"dataframe\">\n",
       "  <thead>\n",
       "    <tr style=\"text-align: right;\">\n",
       "      <th></th>\n",
       "      <th>Unnamed: 0</th>\n",
       "      <th>distance</th>\n",
       "      <th>weather_delay_mean</th>\n",
       "      <th>weather_delay_mean.1</th>\n",
       "      <th>nas_delay_mean</th>\n",
       "      <th>security_delay_mean</th>\n",
       "      <th>late_aircraft_delay_mean</th>\n",
       "      <th>arr_delay</th>\n",
       "      <th>flight_time_afternoon</th>\n",
       "      <th>flight_time_early-morning</th>\n",
       "      <th>flight_time_evening</th>\n",
       "      <th>flight_time_mid-night</th>\n",
       "      <th>flight_time_morning</th>\n",
       "      <th>flight_time_night</th>\n",
       "      <th>flight_season_spring</th>\n",
       "      <th>flight_season_summer</th>\n",
       "      <th>flight_season_winter</th>\n",
       "    </tr>\n",
       "  </thead>\n",
       "  <tbody>\n",
       "    <tr>\n",
       "      <th>0</th>\n",
       "      <td>137835</td>\n",
       "      <td>849.0</td>\n",
       "      <td>0.417663</td>\n",
       "      <td>0.417663</td>\n",
       "      <td>2.399724</td>\n",
       "      <td>0.014523</td>\n",
       "      <td>4.116784</td>\n",
       "      <td>-6.0</td>\n",
       "      <td>0</td>\n",
       "      <td>0</td>\n",
       "      <td>1</td>\n",
       "      <td>0</td>\n",
       "      <td>0</td>\n",
       "      <td>0</td>\n",
       "      <td>0</td>\n",
       "      <td>0</td>\n",
       "      <td>0</td>\n",
       "    </tr>\n",
       "    <tr>\n",
       "      <th>1</th>\n",
       "      <td>152581</td>\n",
       "      <td>683.0</td>\n",
       "      <td>0.417663</td>\n",
       "      <td>0.417663</td>\n",
       "      <td>2.399724</td>\n",
       "      <td>0.014523</td>\n",
       "      <td>4.116784</td>\n",
       "      <td>-25.0</td>\n",
       "      <td>0</td>\n",
       "      <td>0</td>\n",
       "      <td>1</td>\n",
       "      <td>0</td>\n",
       "      <td>0</td>\n",
       "      <td>0</td>\n",
       "      <td>1</td>\n",
       "      <td>0</td>\n",
       "      <td>0</td>\n",
       "    </tr>\n",
       "    <tr>\n",
       "      <th>2</th>\n",
       "      <td>129181</td>\n",
       "      <td>679.0</td>\n",
       "      <td>0.393928</td>\n",
       "      <td>0.393928</td>\n",
       "      <td>3.393894</td>\n",
       "      <td>0.004749</td>\n",
       "      <td>4.136703</td>\n",
       "      <td>-10.0</td>\n",
       "      <td>0</td>\n",
       "      <td>0</td>\n",
       "      <td>1</td>\n",
       "      <td>0</td>\n",
       "      <td>0</td>\n",
       "      <td>0</td>\n",
       "      <td>0</td>\n",
       "      <td>0</td>\n",
       "      <td>0</td>\n",
       "    </tr>\n",
       "    <tr>\n",
       "      <th>3</th>\n",
       "      <td>98113</td>\n",
       "      <td>258.0</td>\n",
       "      <td>0.366193</td>\n",
       "      <td>0.366193</td>\n",
       "      <td>2.031661</td>\n",
       "      <td>0.007455</td>\n",
       "      <td>2.796585</td>\n",
       "      <td>-15.0</td>\n",
       "      <td>0</td>\n",
       "      <td>0</td>\n",
       "      <td>1</td>\n",
       "      <td>0</td>\n",
       "      <td>0</td>\n",
       "      <td>0</td>\n",
       "      <td>0</td>\n",
       "      <td>0</td>\n",
       "      <td>1</td>\n",
       "    </tr>\n",
       "    <tr>\n",
       "      <th>4</th>\n",
       "      <td>18577</td>\n",
       "      <td>1205.0</td>\n",
       "      <td>0.708376</td>\n",
       "      <td>0.708376</td>\n",
       "      <td>1.699183</td>\n",
       "      <td>0.035240</td>\n",
       "      <td>4.271195</td>\n",
       "      <td>-14.0</td>\n",
       "      <td>1</td>\n",
       "      <td>0</td>\n",
       "      <td>0</td>\n",
       "      <td>0</td>\n",
       "      <td>0</td>\n",
       "      <td>0</td>\n",
       "      <td>0</td>\n",
       "      <td>0</td>\n",
       "      <td>1</td>\n",
       "    </tr>\n",
       "    <tr>\n",
       "      <th>...</th>\n",
       "      <td>...</td>\n",
       "      <td>...</td>\n",
       "      <td>...</td>\n",
       "      <td>...</td>\n",
       "      <td>...</td>\n",
       "      <td>...</td>\n",
       "      <td>...</td>\n",
       "      <td>...</td>\n",
       "      <td>...</td>\n",
       "      <td>...</td>\n",
       "      <td>...</td>\n",
       "      <td>...</td>\n",
       "      <td>...</td>\n",
       "      <td>...</td>\n",
       "      <td>...</td>\n",
       "      <td>...</td>\n",
       "      <td>...</td>\n",
       "    </tr>\n",
       "    <tr>\n",
       "      <th>7712</th>\n",
       "      <td>21240</td>\n",
       "      <td>725.0</td>\n",
       "      <td>0.205839</td>\n",
       "      <td>0.205839</td>\n",
       "      <td>1.340548</td>\n",
       "      <td>0.013227</td>\n",
       "      <td>3.848458</td>\n",
       "      <td>98.0</td>\n",
       "      <td>0</td>\n",
       "      <td>0</td>\n",
       "      <td>0</td>\n",
       "      <td>0</td>\n",
       "      <td>0</td>\n",
       "      <td>1</td>\n",
       "      <td>0</td>\n",
       "      <td>0</td>\n",
       "      <td>1</td>\n",
       "    </tr>\n",
       "    <tr>\n",
       "      <th>7713</th>\n",
       "      <td>107445</td>\n",
       "      <td>192.0</td>\n",
       "      <td>0.393928</td>\n",
       "      <td>0.393928</td>\n",
       "      <td>3.393894</td>\n",
       "      <td>0.004749</td>\n",
       "      <td>4.136703</td>\n",
       "      <td>13.0</td>\n",
       "      <td>1</td>\n",
       "      <td>0</td>\n",
       "      <td>0</td>\n",
       "      <td>0</td>\n",
       "      <td>0</td>\n",
       "      <td>0</td>\n",
       "      <td>1</td>\n",
       "      <td>0</td>\n",
       "      <td>0</td>\n",
       "    </tr>\n",
       "    <tr>\n",
       "      <th>7714</th>\n",
       "      <td>41476</td>\n",
       "      <td>846.0</td>\n",
       "      <td>0.393928</td>\n",
       "      <td>0.393928</td>\n",
       "      <td>3.393894</td>\n",
       "      <td>0.004749</td>\n",
       "      <td>4.136703</td>\n",
       "      <td>-7.0</td>\n",
       "      <td>1</td>\n",
       "      <td>0</td>\n",
       "      <td>0</td>\n",
       "      <td>0</td>\n",
       "      <td>0</td>\n",
       "      <td>0</td>\n",
       "      <td>0</td>\n",
       "      <td>0</td>\n",
       "      <td>1</td>\n",
       "    </tr>\n",
       "    <tr>\n",
       "      <th>7715</th>\n",
       "      <td>38304</td>\n",
       "      <td>594.0</td>\n",
       "      <td>0.366193</td>\n",
       "      <td>0.366193</td>\n",
       "      <td>2.031661</td>\n",
       "      <td>0.007455</td>\n",
       "      <td>2.796585</td>\n",
       "      <td>-6.0</td>\n",
       "      <td>0</td>\n",
       "      <td>0</td>\n",
       "      <td>0</td>\n",
       "      <td>0</td>\n",
       "      <td>0</td>\n",
       "      <td>1</td>\n",
       "      <td>0</td>\n",
       "      <td>0</td>\n",
       "      <td>1</td>\n",
       "    </tr>\n",
       "    <tr>\n",
       "      <th>7716</th>\n",
       "      <td>83335</td>\n",
       "      <td>414.0</td>\n",
       "      <td>0.139386</td>\n",
       "      <td>0.139386</td>\n",
       "      <td>2.509660</td>\n",
       "      <td>0.014460</td>\n",
       "      <td>2.208605</td>\n",
       "      <td>-9.0</td>\n",
       "      <td>0</td>\n",
       "      <td>0</td>\n",
       "      <td>0</td>\n",
       "      <td>0</td>\n",
       "      <td>0</td>\n",
       "      <td>1</td>\n",
       "      <td>0</td>\n",
       "      <td>1</td>\n",
       "      <td>0</td>\n",
       "    </tr>\n",
       "  </tbody>\n",
       "</table>\n",
       "<p>7717 rows × 17 columns</p>\n",
       "</div>"
      ],
      "text/plain": [
       "      Unnamed: 0  distance  weather_delay_mean  weather_delay_mean.1  \\\n",
       "0         137835     849.0            0.417663              0.417663   \n",
       "1         152581     683.0            0.417663              0.417663   \n",
       "2         129181     679.0            0.393928              0.393928   \n",
       "3          98113     258.0            0.366193              0.366193   \n",
       "4          18577    1205.0            0.708376              0.708376   \n",
       "...          ...       ...                 ...                   ...   \n",
       "7712       21240     725.0            0.205839              0.205839   \n",
       "7713      107445     192.0            0.393928              0.393928   \n",
       "7714       41476     846.0            0.393928              0.393928   \n",
       "7715       38304     594.0            0.366193              0.366193   \n",
       "7716       83335     414.0            0.139386              0.139386   \n",
       "\n",
       "      nas_delay_mean  security_delay_mean  late_aircraft_delay_mean  \\\n",
       "0           2.399724             0.014523                  4.116784   \n",
       "1           2.399724             0.014523                  4.116784   \n",
       "2           3.393894             0.004749                  4.136703   \n",
       "3           2.031661             0.007455                  2.796585   \n",
       "4           1.699183             0.035240                  4.271195   \n",
       "...              ...                  ...                       ...   \n",
       "7712        1.340548             0.013227                  3.848458   \n",
       "7713        3.393894             0.004749                  4.136703   \n",
       "7714        3.393894             0.004749                  4.136703   \n",
       "7715        2.031661             0.007455                  2.796585   \n",
       "7716        2.509660             0.014460                  2.208605   \n",
       "\n",
       "      arr_delay  flight_time_afternoon  flight_time_early-morning  \\\n",
       "0          -6.0                      0                          0   \n",
       "1         -25.0                      0                          0   \n",
       "2         -10.0                      0                          0   \n",
       "3         -15.0                      0                          0   \n",
       "4         -14.0                      1                          0   \n",
       "...         ...                    ...                        ...   \n",
       "7712       98.0                      0                          0   \n",
       "7713       13.0                      1                          0   \n",
       "7714       -7.0                      1                          0   \n",
       "7715       -6.0                      0                          0   \n",
       "7716       -9.0                      0                          0   \n",
       "\n",
       "      flight_time_evening  flight_time_mid-night  flight_time_morning  \\\n",
       "0                       1                      0                    0   \n",
       "1                       1                      0                    0   \n",
       "2                       1                      0                    0   \n",
       "3                       1                      0                    0   \n",
       "4                       0                      0                    0   \n",
       "...                   ...                    ...                  ...   \n",
       "7712                    0                      0                    0   \n",
       "7713                    0                      0                    0   \n",
       "7714                    0                      0                    0   \n",
       "7715                    0                      0                    0   \n",
       "7716                    0                      0                    0   \n",
       "\n",
       "      flight_time_night  flight_season_spring  flight_season_summer  \\\n",
       "0                     0                     0                     0   \n",
       "1                     0                     1                     0   \n",
       "2                     0                     0                     0   \n",
       "3                     0                     0                     0   \n",
       "4                     0                     0                     0   \n",
       "...                 ...                   ...                   ...   \n",
       "7712                  1                     0                     0   \n",
       "7713                  0                     1                     0   \n",
       "7714                  0                     0                     0   \n",
       "7715                  1                     0                     0   \n",
       "7716                  1                     0                     1   \n",
       "\n",
       "      flight_season_winter  \n",
       "0                        0  \n",
       "1                        0  \n",
       "2                        0  \n",
       "3                        1  \n",
       "4                        1  \n",
       "...                    ...  \n",
       "7712                     1  \n",
       "7713                     0  \n",
       "7714                     1  \n",
       "7715                     1  \n",
       "7716                     0  \n",
       "\n",
       "[7717 rows x 17 columns]"
      ]
     },
     "execution_count": 8,
     "metadata": {},
     "output_type": "execute_result"
    }
   ],
   "source": [
    "df"
   ]
  },
  {
   "cell_type": "code",
   "execution_count": 9,
   "metadata": {},
   "outputs": [],
   "source": [
    "df.drop(axis = 1, labels = 'Unnamed: 0', inplace = True)"
   ]
  },
  {
   "cell_type": "code",
   "execution_count": 10,
   "metadata": {},
   "outputs": [],
   "source": [
    "y = df['arr_delay']"
   ]
  },
  {
   "cell_type": "code",
   "execution_count": 11,
   "metadata": {},
   "outputs": [],
   "source": [
    "X = df.loc[:, df.columns != 'arr_delay']"
   ]
  },
  {
   "cell_type": "code",
   "execution_count": 13,
   "metadata": {},
   "outputs": [],
   "source": [
    "X_train, X_test, y_train, y_test = train_test_split(X, y, train_size = 0.80)"
   ]
  },
  {
   "cell_type": "code",
   "execution_count": 18,
   "metadata": {},
   "outputs": [],
   "source": [
    "scaler = StandardScaler()"
   ]
  },
  {
   "cell_type": "code",
   "execution_count": 19,
   "metadata": {},
   "outputs": [],
   "source": [
    "scaled_X_train = scaler.fit_transform(X_train)"
   ]
  },
  {
   "cell_type": "code",
   "execution_count": 20,
   "metadata": {},
   "outputs": [],
   "source": [
    "scaled_X_test = scaler.transform(X_test)"
   ]
  },
  {
   "cell_type": "code",
   "execution_count": 22,
   "metadata": {},
   "outputs": [],
   "source": [
    "base_elastic_model = ElasticNet()"
   ]
  },
  {
   "cell_type": "code",
   "execution_count": 64,
   "metadata": {},
   "outputs": [],
   "source": [
    "param_grid = { 'alpha': [0.0001, 0.001,0.05, 0.1, 1, 5, 10, 100], 'l1_ratio': [0.00000001, 0.0000001, 0.000001, 0.00001,0.0001, 0.001, 0.05,.1,0.2,0.5]}"
   ]
  },
  {
   "cell_type": "code",
   "execution_count": 65,
   "metadata": {},
   "outputs": [],
   "source": [
    "grid_model = GridSearchCV(base_elastic_model, param_grid=param_grid, scoring = 'neg_mean_squared_error', cv=5, verbose=1)"
   ]
  },
  {
   "cell_type": "code",
   "execution_count": 66,
   "metadata": {},
   "outputs": [
    {
     "name": "stdout",
     "output_type": "stream",
     "text": [
      "Fitting 5 folds for each of 80 candidates, totalling 400 fits\n"
     ]
    },
    {
     "data": {
      "text/plain": [
       "GridSearchCV(cv=5, estimator=ElasticNet(),\n",
       "             param_grid={'alpha': [0.0001, 0.001, 0.05, 0.1, 1, 5, 10, 100],\n",
       "                         'l1_ratio': [1e-08, 1e-07, 1e-06, 1e-05, 0.0001, 0.001,\n",
       "                                      0.05, 0.1, 0.2, 0.5]},\n",
       "             scoring='neg_mean_squared_error', verbose=1)"
      ]
     },
     "execution_count": 66,
     "metadata": {},
     "output_type": "execute_result"
    }
   ],
   "source": [
    "grid_model.fit(scaled_X_train, y_train)"
   ]
  },
  {
   "cell_type": "code",
   "execution_count": 67,
   "metadata": {},
   "outputs": [
    {
     "data": {
      "text/plain": [
       "{'alpha': 0.001, 'l1_ratio': 1e-08}"
      ]
     },
     "execution_count": 67,
     "metadata": {},
     "output_type": "execute_result"
    }
   ],
   "source": [
    "grid_model.best_params_"
   ]
  },
  {
   "cell_type": "code",
   "execution_count": null,
   "metadata": {},
   "outputs": [],
   "source": []
  },
  {
   "cell_type": "code",
   "execution_count": 68,
   "metadata": {},
   "outputs": [],
   "source": [
    "y_pred = grid_model.predict(scaled_X_test)"
   ]
  },
  {
   "cell_type": "code",
   "execution_count": 69,
   "metadata": {},
   "outputs": [],
   "source": [
    "from sklearn.metrics import mean_absolute_error, mean_squared_error"
   ]
  },
  {
   "cell_type": "code",
   "execution_count": 76,
   "metadata": {},
   "outputs": [],
   "source": [
    "mae = mean_absolute_error(y_test, y_pred)"
   ]
  },
  {
   "cell_type": "code",
   "execution_count": 77,
   "metadata": {},
   "outputs": [],
   "source": [
    "mse = np.sqrt(mean_squared_error(y_test, y_pred))"
   ]
  },
  {
   "cell_type": "code",
   "execution_count": 78,
   "metadata": {},
   "outputs": [],
   "source": [
    "r2 =metrics.r2_score(y_test, y_pred)"
   ]
  },
  {
   "cell_type": "code",
   "execution_count": 83,
   "metadata": {},
   "outputs": [
    {
     "name": "stdout",
     "output_type": "stream",
     "text": [
      "Mean Absolute Error:  18.39822972328786\n",
      "Mean Square Error:  27.336373783893137\n",
      "R2 Value:  0.0507999462315073\n"
     ]
    }
   ],
   "source": [
    "print('Mean Absolute Error: ', mae)\n",
    "print('Mean Square Error: ', mse)\n",
    "print('R2 Value: ', r2)"
   ]
  },
  {
   "cell_type": "code",
   "execution_count": null,
   "metadata": {},
   "outputs": [],
   "source": []
  }
 ],
 "metadata": {
  "kernelspec": {
   "display_name": "Python 3",
   "language": "python",
   "name": "python3"
  },
  "language_info": {
   "codemirror_mode": {
    "name": "ipython",
    "version": 3
   },
   "file_extension": ".py",
   "mimetype": "text/x-python",
   "name": "python",
   "nbconvert_exporter": "python",
   "pygments_lexer": "ipython3",
   "version": "3.8.5"
  }
 },
 "nbformat": 4,
 "nbformat_minor": 4
}
